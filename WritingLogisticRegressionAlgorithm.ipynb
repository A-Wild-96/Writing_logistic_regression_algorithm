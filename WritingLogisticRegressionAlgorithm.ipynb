{
 "cells": [
  {
   "cell_type": "markdown",
   "id": "274d55bf",
   "metadata": {},
   "source": [
    "# Custom logistic regression algorithm"
   ]
  },
  {
   "cell_type": "markdown",
   "id": "79b5d0ee",
   "metadata": {},
   "source": [
    "# Abstract\n",
    "In this we write a custom logistic regression machine learning algorithm from scratch using numpy and pandas. The algorithm will be able to take in an a dataset with an unspecificed number of features ($X_n$ where $n=0,1,...N$) and indices ($m=0,1,...M$) as well as a target feature ($y$) which labels each index as either true (1) or false (0). The code will be able to generate polynomial combinations of each feature $X_0^{1}, X_0^{2}, ... X_0^{d}, X_1^1, ...X_N^{d-1},X_N^{d}$. The code will feature regularisation that can be used to remedy overfitting. The code will not feature a custom learning rate ($\\alpha$), instead convergence of the model for a given learning rate can be determined by plotting the cost function as the gradient descent function iterates. In this notebook, I will write each sub-function of the logistic regression algorithm, testing correctness on a small datasets as outlined in the contents. The code is also fully vectorised (with respect to performing summations over the dataset). \n",
    "\n",
    "After the algorithm is complete, in a separate notebook, I will input use a public dataset to train the algorithm to determine the likelihood of someone having chronic kidney disease (CKD). By tuning the parameters of the algorithm we will tailor the program to pick up all true positives at an acceptable amount of false positives - as this type of diagnosis is a precursor to a more invasive procedure.   "
   ]
  },
  {
   "cell_type": "markdown",
   "id": "a893402c",
   "metadata": {},
   "source": [
    "# Contents\n",
    "<ul>\n",
    "    <li>Calculate cost<ul><li>Data visualisation</li><li>Using cost to compare good and bad fits</li></ul></li>\n",
    "    <li>Gradient descent to minimise cost<ul><li>Learning rate and convergence</li></ul></li>\n",
    "    <li>Logistic regression with two features<ul><li>Comparing trained decision boundary to human attempt</li></ul></li>\n",
    "    <li>Logistic regression with several features</li>\n",
    "    <li>Polynomial features<ul><li>Min-max scaling</li><li>Visualising polynomial decision boundaries</li><li>Convergence of higher polynomial features</li><li>Reducing cost with higher order features</li></ul></li>\n",
    "    <li>Overfitting and regularisation</li>\n",
    "    <li>Conclusion</li>\n",
    "</ul>"
   ]
  },
  {
   "cell_type": "markdown",
   "id": "48fba651",
   "metadata": {},
   "source": [
    "# Calculate cost\n",
    "### Data visualisation"
   ]
  },
  {
   "cell_type": "code",
   "execution_count": 1,
   "id": "1d569ed4",
   "metadata": {},
   "outputs": [],
   "source": [
    "import pandas as pd\n",
    "import seaborn as sns\n",
    "import matplotlib.pyplot as plt\n",
    "import numpy as np\n",
    "%matplotlib inline"
   ]
  },
  {
   "cell_type": "markdown",
   "id": "0468d3be",
   "metadata": {},
   "source": [
    "Import dataset containing a several anonomous features and a target feature. This dataset was obtained as an example dataset from udemy course: Python for Data Science and Machine Learning Bootcamp - Udemy - Section 18: Lecture 96. "
   ]
  },
  {
   "cell_type": "code",
   "execution_count": 2,
   "id": "b6e69401",
   "metadata": {},
   "outputs": [],
   "source": [
    "df = pd.read_csv(\"Classified Data\",index_col=0)\n",
    "#Reduce dataset to two features\n",
    "df.drop(labels=\"PTI SBI LQE QWG FDJ PJF WTT NXJ\".split(),axis=1,inplace=True)"
   ]
  },
  {
   "cell_type": "markdown",
   "id": "26778958",
   "metadata": {},
   "source": [
    "Features are $X_0$ = \"EQW\" and $X_1$ = \"HQE\" which are meant to demonstrate classified data. The values of these features have already been approprietely scaled for logistic regression. The target class is $y$ = \"TARGET CLASS\". Our data has 1000 examples or indices."
   ]
  },
  {
   "cell_type": "code",
   "execution_count": 3,
   "id": "6d716d85",
   "metadata": {},
   "outputs": [
    {
     "data": {
      "text/html": [
       "<div>\n",
       "<style scoped>\n",
       "    .dataframe tbody tr th:only-of-type {\n",
       "        vertical-align: middle;\n",
       "    }\n",
       "\n",
       "    .dataframe tbody tr th {\n",
       "        vertical-align: top;\n",
       "    }\n",
       "\n",
       "    .dataframe thead th {\n",
       "        text-align: right;\n",
       "    }\n",
       "</style>\n",
       "<table border=\"1\" class=\"dataframe\">\n",
       "  <thead>\n",
       "    <tr style=\"text-align: right;\">\n",
       "      <th></th>\n",
       "      <th>EQW</th>\n",
       "      <th>HQE</th>\n",
       "      <th>TARGET CLASS</th>\n",
       "    </tr>\n",
       "  </thead>\n",
       "  <tbody>\n",
       "    <tr>\n",
       "      <th>0</th>\n",
       "      <td>0.567946</td>\n",
       "      <td>0.879422</td>\n",
       "      <td>1</td>\n",
       "    </tr>\n",
       "    <tr>\n",
       "      <th>1</th>\n",
       "      <td>0.535342</td>\n",
       "      <td>0.621552</td>\n",
       "      <td>0</td>\n",
       "    </tr>\n",
       "    <tr>\n",
       "      <th>2</th>\n",
       "      <td>0.921990</td>\n",
       "      <td>0.957877</td>\n",
       "      <td>0</td>\n",
       "    </tr>\n",
       "  </tbody>\n",
       "</table>\n",
       "</div>"
      ],
      "text/plain": [
       "        EQW       HQE  TARGET CLASS\n",
       "0  0.567946  0.879422             1\n",
       "1  0.535342  0.621552             0\n",
       "2  0.921990  0.957877             0"
      ]
     },
     "execution_count": 3,
     "metadata": {},
     "output_type": "execute_result"
    }
   ],
   "source": [
    "df.head(3)"
   ]
  },
  {
   "cell_type": "code",
   "execution_count": 4,
   "id": "6f4c4ea0",
   "metadata": {},
   "outputs": [
    {
     "data": {
      "text/plain": [
       "1000"
      ]
     },
     "execution_count": 4,
     "metadata": {},
     "output_type": "execute_result"
    }
   ],
   "source": [
    "len(df.index)"
   ]
  },
  {
   "cell_type": "markdown",
   "id": "7f2ff393",
   "metadata": {},
   "source": [
    "### Using cost to compare good and bad fits"
   ]
  },
  {
   "cell_type": "markdown",
   "id": "3d4b274c",
   "metadata": {},
   "source": [
    "We see that the dataset shows a relatively clear trend regarding the features \"HQE\" and \"EQW\" with regard to the \"TARGET CLASS\". Lets attempt to draw a line - or decision boundary between the two target classes - this is an estimation of what the machine learning algoirthm will do. If I attempt to draw a reasonable decision boundary (blue solid line) I can get appromitely 80-90% of the target class' correct. For comparison, I also draw a bad decision boundary (red dashed line). Due to the overlap of of the two target class' we predict that the baseline performance for this reduced dataset is about 90%. This is to say, without added information no human, or machine learning algorithm can perform better than 90%. "
   ]
  },
  {
   "cell_type": "code",
   "execution_count": 5,
   "id": "770806b3",
   "metadata": {},
   "outputs": [
    {
     "data": {
      "text/plain": [
       "(0.0, 1.6, 0.0, 2.0)"
      ]
     },
     "execution_count": 5,
     "metadata": {},
     "output_type": "execute_result"
    },
    {
     "data": {
      "image/png": "[encoded data removed]",
      "text/plain": [
       "<Figure size 432x288 with 1 Axes>"
      ]
     },
     "metadata": {
      "needs_background": "light"
     },
     "output_type": "display_data"
    }
   ],
   "source": [
    "grid = sns.scatterplot(x=\"EQW\",y=\"HQE\",hue=\"TARGET CLASS\",data=df)\n",
    "##My attempt at a regression line: X_1 = X_0 + 0.4\n",
    "plt.plot([0., 1.5],[0.4, 1.9],'b-')\n",
    "##Bad attempt at a regression line: X_1 = 6X_0 -1\n",
    "plt.plot([0., 1.5],[-1, 8],'r--')\n",
    "plt.axis([0, 1.6, 0, 2])"
   ]
  },
  {
   "cell_type": "markdown",
   "id": "b1b95999",
   "metadata": {},
   "source": [
    "For logistic regression we need the sigmoid function. This function should be able to take in a numpy array of variables and return an element-wise application of the sigmoid function."
   ]
  },
  {
   "cell_type": "code",
   "execution_count": 6,
   "id": "b09ff6c9",
   "metadata": {},
   "outputs": [],
   "source": [
    "def sigmoid(z):\n",
    "    '''\n",
    "    Applies the sigmoid function to every element in input matrix/vector. \n",
    "    Parameters:\n",
    "    ----------\n",
    "    Input: z - numpy.ndarray of shape (N,)\n",
    "    Output: g(z) - np.ndarray of shape (N,) - sigmoid function applied to each element of z\n",
    "    '''\n",
    "    g = 1 / (1 + np.exp(-z))\n",
    "    return g"
   ]
  },
  {
   "cell_type": "code",
   "execution_count": 7,
   "id": "b22e1102",
   "metadata": {},
   "outputs": [
    {
     "data": {
      "text/plain": [
       "array([3.72007598e-44, 6.89974481e-01, 4.50166003e-01, 9.93307149e-01])"
      ]
     },
     "execution_count": 7,
     "metadata": {},
     "output_type": "execute_result"
    }
   ],
   "source": [
    "#Example:\n",
    "sigmoid_example = sigmoid(np.array([-100,0.8,-0.2,5]))\n",
    "sigmoid_example"
   ]
  },
  {
   "cell_type": "code",
   "execution_count": 8,
   "id": "e6ebf636",
   "metadata": {},
   "outputs": [
    {
     "data": {
      "text/plain": [
       "numpy.ndarray"
      ]
     },
     "execution_count": 8,
     "metadata": {},
     "output_type": "execute_result"
    }
   ],
   "source": [
    "type(sigmoid_example)"
   ]
  },
  {
   "cell_type": "code",
   "execution_count": 9,
   "id": "d4726736",
   "metadata": {},
   "outputs": [
    {
     "data": {
      "text/plain": [
       "(4,)"
      ]
     },
     "execution_count": 9,
     "metadata": {},
     "output_type": "execute_result"
    }
   ],
   "source": [
    "sigmoid(sigmoid_example).shape"
   ]
  },
  {
   "cell_type": "markdown",
   "id": "08ae18c9",
   "metadata": {},
   "source": [
    "Using the sigmoid function we can calculate the cost of a certain model to our data. Using logistic regression model, the likelihood of example or index having \"TARGET CLASS\" equal to 1 is f_wb. For a given model quantified with model parameters W and b, the cost function quantifies how close the predicted target class' (y_hat) are to the target class' (y). The larger the cost, the worse the model fits. "
   ]
  },
  {
   "cell_type": "code",
   "execution_count": 10,
   "id": "123d764f",
   "metadata": {},
   "outputs": [],
   "source": [
    "def calc_cost(X, y, W, b, lambda_):\n",
    "    '''\n",
    "    Calculates the cost function for a model applied to input features. The lower the cost, the better the model fits.\n",
    "    The cost function can punish large parameter values for the model if regularisation (lambda_ != 0) is included.\n",
    "    To get the true cost function of the data, do not include regularisation (lambda_ == 0).\n",
    "    Parameters:\n",
    "    ----------\n",
    "    Input: X - pandas.core.frame.DataFrame shape (M,N) - features of dataset with M indices and N features\n",
    "           y - pandas.core.frame.DataFrame shape (M,1) - target class of dataset with M indices\n",
    "           W - numpy.ndarray of shape (N,) - feature parameters for model\n",
    "           b - float - offset parameter for model\n",
    "           lambda_ - float - regularisation parameter\n",
    "    Output: cost - float - cost function of model with parameter W and b fitted to true data y with features X\n",
    "    '''\n",
    "    M = len(X.index)\n",
    "    f_wb_vec = sigmoid(np.matmul(X.to_numpy(),W) + b)\n",
    "    \n",
    "    #Overflow issues with upcoming log's if entries are too close to zero or one\n",
    "    f_wb_vec[f_wb_vec<1e-15]=1e-15\n",
    "    f_wb_vec[1-f_wb_vec<1e-15]=1-1e-15\n",
    "    \n",
    "    loss_vec = -y.to_numpy().reshape(M,1)*np.log(f_wb_vec) - (1-y.to_numpy().reshape(M,1))*np.log(1 - f_wb_vec)\n",
    "\n",
    "    \n",
    "    cost = (sum(loss_vec)/M + (lambda_/(2*M))*np.sum(W*W))[0]\n",
    "    return cost"
   ]
  },
  {
   "cell_type": "markdown",
   "id": "1c615728",
   "metadata": {},
   "source": [
    "Lets demonstrate cost with the two models sketched in the above graph. The decision boundary marks the line that separates y_hat = 0 and 1. The bad model has the form W = np.array([-6, 1]) and b = 1."
   ]
  },
  {
   "cell_type": "code",
   "execution_count": 11,
   "id": "96d2e7a2",
   "metadata": {},
   "outputs": [
    {
     "name": "stdout",
     "output_type": "stream",
     "text": [
      "The cost of a bad fit: 0.9704234643449147\n"
     ]
    }
   ],
   "source": [
    "X = df.drop(\"TARGET CLASS\",axis=1)\n",
    "y = df[\"TARGET CLASS\"]\n",
    "W_bad = np.array([-6,1]).reshape((2, 1))\n",
    "b_bad = 1\n",
    "cost_bad = calc_cost(X, y, W_bad, b_bad, lambda_=0.)\n",
    "print(\"The cost of a bad fit: {}\".format(cost_bad))"
   ]
  },
  {
   "cell_type": "markdown",
   "id": "b50ba85a",
   "metadata": {},
   "source": [
    "Now we demonstrate lower cost of the better fit with mode W = np.array([-1, 1]) and b = -0.4."
   ]
  },
  {
   "cell_type": "code",
   "execution_count": 12,
   "id": "985ef8e3",
   "metadata": {},
   "outputs": [
    {
     "name": "stdout",
     "output_type": "stream",
     "text": [
      "The cost of a good fit: 0.5398679545726451\n"
     ]
    }
   ],
   "source": [
    "W_good = np.array([-1,1]).reshape((2, 1))\n",
    "b_good = -0.4\n",
    "cost_good = calc_cost(X, y, W_good, b_good, lambda_=0.)\n",
    "cost_good\n",
    "print(\"The cost of a good fit: {}\".format(cost_good))"
   ]
  },
  {
   "cell_type": "markdown",
   "id": "dbbce4a5",
   "metadata": {},
   "source": [
    "# Gradient descent to minimise cost"
   ]
  },
  {
   "cell_type": "markdown",
   "id": "27518302",
   "metadata": {},
   "source": [
    "In order to implament gradient descent, to find the best model to fit our data, we need a function that calculates the partial derivative of the gradient of the cost function with respect to the parameters of our model (elements of W and b). "
   ]
  },
  {
   "cell_type": "code",
   "execution_count": 13,
   "id": "1f5c8938",
   "metadata": {},
   "outputs": [],
   "source": [
    "def compute_gradient(X, y, W, b, lambda_):\n",
    "    '''\n",
    "    Computes the partial derivatives of the cost function with respect to model parameters.\n",
    "    Parameters:\n",
    "    ----------\n",
    "    Input: X - pandas.core.frame.DataFrame shape (M,N) - features of dataset with M indices and N features\n",
    "           y - pandas.core.frame.DataFrame shape (M,1) - target class of dataset with M indices\n",
    "           W - numpy.ndarray of shape (N,1) - feature parameters for model\n",
    "           b - float - offset parameter for model\n",
    "           lambda_ - float - regularisation parameter\n",
    "    Output:dj_db - float - partial derivative of cost function with respect to model parameter b\n",
    "           dj_dW - numpy.ndarray of shape (N,1) - partial derivative of cost function wwith respect to model parameters in vector W\n",
    "    '''\n",
    "    (M,N) = X.shape\n",
    "    dj_dW = np.array(np.zeros(N)).reshape(N,1)\n",
    "    dj_db = 0.0\n",
    "    \n",
    "    f_wb_vec = sigmoid(np.matmul(X.to_numpy(),W) + b)\n",
    "    dj_dW_vec = X.to_numpy()*(f_wb_vec - y.to_numpy().reshape(M,1))\n",
    "    dj_db_vec = (f_wb_vec - y.to_numpy().reshape(M,1))\n",
    "    dj_dW = np.sum(dj_dW_vec,axis=0).reshape(N,1)/M + lambda_*W/M\n",
    "    dj_db = np.sum(dj_db_vec,axis=0)/M\n",
    "    \n",
    "    return dj_db, dj_dW"
   ]
  },
  {
   "cell_type": "markdown",
   "id": "de66e348",
   "metadata": {},
   "source": [
    "This function does not lend itself to an example so lets move on to the full gradient descent function."
   ]
  },
  {
   "cell_type": "markdown",
   "id": "7cdec103",
   "metadata": {},
   "source": [
    "The gradient descent function takes in an initial model W_init and b_init as well as the data and other parameters and using gradient descent to find minima in the N-dimensional cost function.  "
   ]
  },
  {
   "cell_type": "code",
   "execution_count": 14,
   "id": "3d3b4137",
   "metadata": {},
   "outputs": [],
   "source": [
    "def gradient_descent(X, y, W_init, b_init, lambda_, alpha=1, max_iter=100, print_step=20, save_step=10):\n",
    "    '''\n",
    "    Perform gradient descent algorithm to minimise cost function by changing the model parameters.\n",
    "    Parameters:\n",
    "    ----------\n",
    "    Input: X - pandas.core.frame.DataFrame shape (M,N) - features of dataset with M indices and N features\n",
    "           y - pandas.core.frame.DataFrame shape (M,1) - target class of dataset with M indices\n",
    "           W_init - numpy.ndarray shape (N,1) - initial feature parameters for model\n",
    "           b_init - float - initial offset parameter for model\n",
    "           alpha - float - learning rate of gradient descent\n",
    "           max_iter - int - maximum number of iterations for gradient descent\n",
    "           print_step - int - on iterations that are a multiple of print_step, print percentage of completion. If False do not print progress\n",
    "           save_step - int - on iterations that are a multiple of save_step, store cost, models parameters and iterations in to vectors. If False only save last iteration\n",
    "           lambda_ - float - regularisation parameter\n",
    "    Output:iter_history - numpy.array - saved iterations for each multiple of save_step in max_iter \n",
    "           cost_reg_history - numpy.ndarray - cost function at saved iterations\n",
    "           W - numpy.ndarray shape (N,1) - final model parameters\n",
    "           b - float - final offset model parameter\n",
    "           final_cost - float - final cost function of dataset (true cost does not use regularisation term) \n",
    "    '''\n",
    "    \n",
    "    #Initialisations\n",
    "    cost_reg_history, iter_history, final_cost = [], [], 0.\n",
    "    W, b = W_init, b_init\n",
    "    for iter in range(1,max_iter+1):\n",
    "        dj_db, dj_dW = compute_gradient(X, y, W, b, lambda_)   \n",
    "        \n",
    "        W = W - alpha*dj_dW\n",
    "        b = b - alpha*dj_db\n",
    "        \n",
    "        \n",
    "        cost_reg = calc_cost(X, y, W, b, lambda_)\n",
    "        \n",
    "        if(save_step!=0):\n",
    "            if(iter % save_step or save_step==1):\n",
    "                cost_reg_history.append(cost_reg)\n",
    "                iter_history.append(iter) \n",
    "        elif(iter==max_iter):\n",
    "            cost_reg_history.append(cost_reg)\n",
    "            iter_history.append(iter) \n",
    "                \n",
    "        if(print_step):\n",
    "            if(iter % print_step == 0):print(\"{}%\\n\".format(100*iter/max_iter))\n",
    "        \n",
    "    #Calculate final cost of the model - note that this is the true cost\n",
    "    #and so does not include regularisation (set lambda_=0.)    \n",
    "    final_cost = calc_cost(X, y, W, b, lambda_=0.)\n",
    "        \n",
    "    return cost_reg_history, W, b, iter_history, final_cost"
   ]
  },
  {
   "cell_type": "markdown",
   "id": "494026c1",
   "metadata": {},
   "source": [
    "### Learning rate and convergence "
   ]
  },
  {
   "cell_type": "markdown",
   "id": "a96edd7e",
   "metadata": {},
   "source": [
    "In this function we do not have a way to determine the learning rate. Our learning rate should allow gradient descent to reduce the cost function efficiently as to not waste resources but should be slow enough to ensure we don't miss the minima of the function. Lets test convergence for several different values for alpha in our dataset."
   ]
  },
  {
   "cell_type": "code",
   "execution_count": 15,
   "id": "def700de",
   "metadata": {},
   "outputs": [
    {
     "name": "stdout",
     "output_type": "stream",
     "text": [
      "alpha=0.3 completed.\n",
      "alpha=1 completed.\n",
      "alpha=3 completed.\n"
     ]
    }
   ],
   "source": [
    "alpha_lst = [.3,1,3]\n",
    "iterations_history, cost_reg_history = [], []\n",
    "W_init, b_init = np.ones(2).reshape((2, 1)), 0.\n",
    "lambda_ = 0.\n",
    "for alpha_val in alpha_lst:\n",
    "    cost_reg, dummy_W, dummy_b, iterations, final_cost = gradient_descent(X, y, W_init, b_init, lambda_, alpha=alpha_val, max_iter=500, print_step=False, save_step=1)\n",
    "    cost_reg_history.append(cost_reg)\n",
    "    iterations_history = iterations\n",
    "    print(\"alpha={} completed.\".format(alpha_val))"
   ]
  },
  {
   "cell_type": "markdown",
   "id": "ce5cdd14",
   "metadata": {},
   "source": [
    "We see that alpha = 0.1 and 0.3 converge too slowly and that alpha = 10 does not converge and skips over the cost function space missing minima. A safe choice seems to be alpha = 1 for 300 iterations. In this algorithm it is best to test convergence for a specific learning rate as we have done here. Writing a program to determine the learning rate and convergence is a tricky task and will not be attempted here. "
   ]
  },
  {
   "cell_type": "code",
   "execution_count": 16,
   "id": "4a1e9bdf",
   "metadata": {},
   "outputs": [
    {
     "data": {
      "text/plain": [
       "<matplotlib.legend.Legend at 0x214e03f1610>"
      ]
     },
     "execution_count": 16,
     "metadata": {},
     "output_type": "execute_result"
    },
    {
     "data": {
      "image/png": "[encoded data removed]",
      "text/plain": [
       "<Figure size 432x288 with 1 Axes>"
      ]
     },
     "metadata": {
      "needs_background": "light"
     },
     "output_type": "display_data"
    }
   ],
   "source": [
    "colour = ['b','g','r']\n",
    "for i in range(len(colour)):\n",
    "    plt.plot(iterations_history,cost_reg_history[i], color=colour[i], label='alpha = {}'.format(alpha_lst[i]))\n",
    "plt.ylabel(\"Cost_reg\"), plt.xlabel(\"Iter\")\n",
    "plt.axis([0, 500, 0.2, 2])\n",
    "plt.legend()"
   ]
  },
  {
   "cell_type": "markdown",
   "id": "6e95fd3c",
   "metadata": {},
   "source": [
    "# Logistic regression with two features"
   ]
  },
  {
   "cell_type": "markdown",
   "id": "bf20ee58",
   "metadata": {},
   "source": [
    "Now we wrap everything in to a final function that trains a model based off of training data and produces estimated solutions to a test dataset."
   ]
  },
  {
   "cell_type": "code",
   "execution_count": 17,
   "id": "52f90493",
   "metadata": {},
   "outputs": [],
   "source": [
    "def logistic_regression(X_train, X_test, y_train, y_test, lambda_, alpha=1, f_cutoff=0.5, max_iter=100, print_step=20):\n",
    "    '''\n",
    "    Takes in input training data, uses gradient descent to find an optimal model, applies model to test features.\n",
    "    After applying model to test features, estimated target class data is obtained which is compared to test target class data.\n",
    "    Parameters:\n",
    "    ----------\n",
    "    Input: X_train - pandas.core.frame.DataFrame - training set features of shape (M_train,N) with M_train indices and N features\n",
    "           y_train - pandas.core.frame.DataFrame - training set of shape (M_train,1) with target feature for each index\n",
    "           X_test - pandas.core.frame.DataFrame - training set features of shape (M_test,N) with M_test indices and N features\n",
    "           y_test - pandas.core.frame.DataFrame - training set of shape (M_test,1) with target feature for each index\n",
    "           lambda_ - float - regularisation parameter\n",
    "           alpha - float - learning rate of gradient descent\n",
    "           f_cutoff - float - cutoff for sigmoid function to determine if y_hat is equal to 0 or 1.\n",
    "           max_iter - int - maximum number of iterations for gradient descent\n",
    "           print_step - int - on iterations that are a multiple of print_step, print percentage of completion. If False do not print progress\n",
    "    Output:y_hat - numpy.array - predicted target features of shape (M_train,1) \n",
    "           cost_reg_history - numpy.ndarray - cost function at saved iterations\n",
    "           W_model - numpy.ndarray shape (N,1) - final model parameters\n",
    "           b_history - float - final offset model parameter\n",
    "           final_cost - float - final cost function of dataset (true cost does not use regularisation term) \n",
    "    '''\n",
    "    N_train = len(X_train.columns)\n",
    "    W = np.ones(N_train).reshape(N_train,1)\n",
    "    b = 0.\n",
    "    cost_reg_history, W_model, b_model, print_steps, train_cost = gradient_descent(X_train, y_train, W, b, lambda_, alpha, max_iter, print_step, save_step=0)\n",
    "\n",
    "    M_test = len(X_test.index)\n",
    "    \n",
    "    f_wb_vec = sigmoid(np.matmul(X_test.to_numpy(),W_model) + b_model)\n",
    "    f_wb_vec[f_wb_vec >= f_cutoff] = 1\n",
    "    f_wb_vec[f_wb_vec < f_cutoff] = 0\n",
    "    \n",
    "    y_hat = y_test.copy(deep=True)\n",
    "    y_hat.iloc[:] = np.squeeze(f_wb_vec.reshape(1,M_test))\n",
    "    \n",
    "    test_cost = calc_cost(X_test, y_test, W_model, b_model, lambda_=0.)\n",
    "                       \n",
    "    return y_hat, W_model, b_model, train_cost, test_cost"
   ]
  },
  {
   "cell_type": "markdown",
   "id": "f92f4239",
   "metadata": {},
   "source": [
    "Now lets give this function a go with some test data."
   ]
  },
  {
   "cell_type": "code",
   "execution_count": 18,
   "id": "16b2c959",
   "metadata": {},
   "outputs": [
    {
     "name": "stdout",
     "output_type": "stream",
     "text": [
      "The train cost is 0.2948074405670905 and the test cost is 0.2731892204270692\n"
     ]
    }
   ],
   "source": [
    "from sklearn.model_selection import train_test_split\n",
    "X_train, X_test, y_train, y_test = train_test_split(X, y, test_size=0.30)\n",
    "y_hat, W_model, b_model, train_cost, test_cost = logistic_regression(X_train, X_test, y_train, y_test, lambda_=0., alpha=1, max_iter=500, print_step=False)\n",
    "print(\"The train cost is {} and the test cost is {}\".format(train_cost, test_cost))"
   ]
  },
  {
   "cell_type": "markdown",
   "id": "869f10ed",
   "metadata": {},
   "source": [
    "Because the training cost and test cost are similar it means the data is not overfit! Although it would be hard to overfit considering we only used linear features. Lets see how many of the test set it correctly classified."
   ]
  },
  {
   "cell_type": "code",
   "execution_count": 19,
   "id": "22888d4b",
   "metadata": {},
   "outputs": [
    {
     "data": {
      "text/plain": [
       "0.9033333333333333"
      ]
     },
     "execution_count": 19,
     "metadata": {},
     "output_type": "execute_result"
    }
   ],
   "source": [
    "sum(y_test==y_hat)/len(y_test)"
   ]
  },
  {
   "cell_type": "markdown",
   "id": "2fde133d",
   "metadata": {},
   "source": [
    "We correctly classified about 90% of results, this is roughly the expected basline performance that a human could achieve on this dataset."
   ]
  },
  {
   "cell_type": "markdown",
   "id": "15d5662a",
   "metadata": {},
   "source": [
    "### Comparing trained decision boundary to human attempt"
   ]
  },
  {
   "cell_type": "markdown",
   "id": "f1ecad61",
   "metadata": {},
   "source": [
    "Lets extract our fit and plot it on our dataset."
   ]
  },
  {
   "cell_type": "code",
   "execution_count": 20,
   "id": "216f583d",
   "metadata": {},
   "outputs": [
    {
     "name": "stdout",
     "output_type": "stream",
     "text": [
      "W = [[-6.08325129]\n",
      " [ 6.29454662]] and b = [-2.3766497]\n"
     ]
    }
   ],
   "source": [
    "print(\"W = {} and b = {}\".format(W_model, b_model))"
   ]
  },
  {
   "cell_type": "code",
   "execution_count": 21,
   "id": "548b6d5f",
   "metadata": {},
   "outputs": [
    {
     "data": {
      "text/plain": [
       "(0.0, 1.6, 0.0, 2.0)"
      ]
     },
     "execution_count": 21,
     "metadata": {},
     "output_type": "execute_result"
    },
    {
     "data": {
      "image/png": "[encoded data removed]",
      "text/plain": [
       "<Figure size 432x288 with 1 Axes>"
      ]
     },
     "metadata": {
      "needs_background": "light"
     },
     "output_type": "display_data"
    }
   ],
   "source": [
    "grid = sns.scatterplot(x=\"EQW\",y=\"HQE\",hue=\"TARGET CLASS\",data=df)\n",
    "##My initial attempt at a regression line: X_1 = X_0 + 0.4\n",
    "plt.plot([0., 1.5],[0.4, 1.9],'b-')\n",
    "##Line fitted with own logistic algorithm: X_1 = W[0]*X_0/W[1] + b/W[1]\n",
    "plt.plot([0., 1.5],[-b_model/W_model[1], (-b_model - 1.5*W_model[0])/W_model[1]],'g--')\n",
    "plt.axis([0, 1.6, 0, 2])"
   ]
  },
  {
   "cell_type": "markdown",
   "id": "4b5700f7",
   "metadata": {},
   "source": [
    "We can see that the logistic regression algorithm predicted almost the same linear decision boundary as we did - which indicates it is working properly."
   ]
  },
  {
   "cell_type": "markdown",
   "id": "367930cc",
   "metadata": {},
   "source": [
    "Lets see how sklearn performs with the same dataset."
   ]
  },
  {
   "cell_type": "code",
   "execution_count": 22,
   "id": "5c27d3eb",
   "metadata": {},
   "outputs": [],
   "source": [
    "from sklearn.linear_model import LogisticRegression\n",
    "logmodel = LogisticRegression()\n",
    "logmodel.fit(X_train,y_train)\n",
    "y_hat_sklearn = logmodel.predict(X_test)"
   ]
  },
  {
   "cell_type": "code",
   "execution_count": 23,
   "id": "2a387efe",
   "metadata": {},
   "outputs": [
    {
     "data": {
      "text/plain": [
       "0.9033333333333333"
      ]
     },
     "execution_count": 23,
     "metadata": {},
     "output_type": "execute_result"
    }
   ],
   "source": [
    "sum(y_hat_sklearn == y_test)/len(y_test)"
   ]
  },
  {
   "cell_type": "markdown",
   "id": "e2a79dc1",
   "metadata": {},
   "source": [
    "So in this dataset our algorithm performed as well as sklearn! This is a good start since we do not yet generate polynomial features and we pick our regression parameters (for example learning rate and iterations) manually. "
   ]
  },
  {
   "cell_type": "markdown",
   "id": "3e11063f",
   "metadata": {},
   "source": [
    "### Logistic regression with several features"
   ]
  },
  {
   "cell_type": "markdown",
   "id": "5259fa45",
   "metadata": {},
   "source": [
    "Lets test how our results compare when including all features of the dataset. This way we can ensure our model generalises for more than two features."
   ]
  },
  {
   "cell_type": "code",
   "execution_count": 24,
   "id": "ed43610b",
   "metadata": {},
   "outputs": [
    {
     "data": {
      "text/html": [
       "<div>\n",
       "<style scoped>\n",
       "    .dataframe tbody tr th:only-of-type {\n",
       "        vertical-align: middle;\n",
       "    }\n",
       "\n",
       "    .dataframe tbody tr th {\n",
       "        vertical-align: top;\n",
       "    }\n",
       "\n",
       "    .dataframe thead th {\n",
       "        text-align: right;\n",
       "    }\n",
       "</style>\n",
       "<table border=\"1\" class=\"dataframe\">\n",
       "  <thead>\n",
       "    <tr style=\"text-align: right;\">\n",
       "      <th></th>\n",
       "      <th>WTT</th>\n",
       "      <th>PTI</th>\n",
       "      <th>EQW</th>\n",
       "      <th>SBI</th>\n",
       "      <th>LQE</th>\n",
       "      <th>QWG</th>\n",
       "      <th>FDJ</th>\n",
       "      <th>PJF</th>\n",
       "      <th>HQE</th>\n",
       "      <th>NXJ</th>\n",
       "      <th>TARGET CLASS</th>\n",
       "    </tr>\n",
       "  </thead>\n",
       "  <tbody>\n",
       "    <tr>\n",
       "      <th>0</th>\n",
       "      <td>0.913917</td>\n",
       "      <td>1.162073</td>\n",
       "      <td>0.567946</td>\n",
       "      <td>0.755464</td>\n",
       "      <td>0.780862</td>\n",
       "      <td>0.352608</td>\n",
       "      <td>0.759697</td>\n",
       "      <td>0.643798</td>\n",
       "      <td>0.879422</td>\n",
       "      <td>1.231409</td>\n",
       "      <td>1</td>\n",
       "    </tr>\n",
       "    <tr>\n",
       "      <th>1</th>\n",
       "      <td>0.635632</td>\n",
       "      <td>1.003722</td>\n",
       "      <td>0.535342</td>\n",
       "      <td>0.825645</td>\n",
       "      <td>0.924109</td>\n",
       "      <td>0.648450</td>\n",
       "      <td>0.675334</td>\n",
       "      <td>1.013546</td>\n",
       "      <td>0.621552</td>\n",
       "      <td>1.492702</td>\n",
       "      <td>0</td>\n",
       "    </tr>\n",
       "    <tr>\n",
       "      <th>2</th>\n",
       "      <td>0.721360</td>\n",
       "      <td>1.201493</td>\n",
       "      <td>0.921990</td>\n",
       "      <td>0.855595</td>\n",
       "      <td>1.526629</td>\n",
       "      <td>0.720781</td>\n",
       "      <td>1.626351</td>\n",
       "      <td>1.154483</td>\n",
       "      <td>0.957877</td>\n",
       "      <td>1.285597</td>\n",
       "      <td>0</td>\n",
       "    </tr>\n",
       "  </tbody>\n",
       "</table>\n",
       "</div>"
      ],
      "text/plain": [
       "        WTT       PTI       EQW       SBI       LQE       QWG       FDJ  \\\n",
       "0  0.913917  1.162073  0.567946  0.755464  0.780862  0.352608  0.759697   \n",
       "1  0.635632  1.003722  0.535342  0.825645  0.924109  0.648450  0.675334   \n",
       "2  0.721360  1.201493  0.921990  0.855595  1.526629  0.720781  1.626351   \n",
       "\n",
       "        PJF       HQE       NXJ  TARGET CLASS  \n",
       "0  0.643798  0.879422  1.231409             1  \n",
       "1  1.013546  0.621552  1.492702             0  \n",
       "2  1.154483  0.957877  1.285597             0  "
      ]
     },
     "execution_count": 24,
     "metadata": {},
     "output_type": "execute_result"
    }
   ],
   "source": [
    "df = pd.read_csv(\"Classified Data\",index_col=0)\n",
    "#Reduce to simplified two feature dataset\n",
    "df.head(3)"
   ]
  },
  {
   "cell_type": "code",
   "execution_count": 25,
   "id": "b1aad942",
   "metadata": {},
   "outputs": [],
   "source": [
    "X = df.drop(labels=\"TARGET CLASS\", axis=1)\n",
    "y = df[\"TARGET CLASS\"]"
   ]
  },
  {
   "cell_type": "markdown",
   "id": "6e310c1f",
   "metadata": {},
   "source": [
    "Lets test convergence for the full dataset."
   ]
  },
  {
   "cell_type": "code",
   "execution_count": 26,
   "id": "1412f4f9",
   "metadata": {},
   "outputs": [
    {
     "name": "stdout",
     "output_type": "stream",
     "text": [
      "alpha=0.1 complete.\n",
      "alpha=0.3 complete.\n",
      "alpha=1 complete.\n",
      "alpha=3 complete.\n"
     ]
    }
   ],
   "source": [
    "alpha_lst = [.1, .3, 1, 3]\n",
    "iterations_history, cost_reg_history = [], []\n",
    "N = len(X.columns)\n",
    "W_init, b_init = np.ones(N).reshape(N,1), 0.\n",
    "lambda_ = 0.\n",
    "for alpha_val in alpha_lst:\n",
    "    cost_reg, dummy_W, dummy_b, iterations, final_cost = gradient_descent(X, y, W_init, b_init, lambda_, alpha=alpha_val, max_iter=500, print_step=False, save_step=1)\n",
    "    cost_reg_history.append(cost_reg)\n",
    "    iterations_history = iterations\n",
    "    print(\"alpha={} complete.\".format(alpha_val))"
   ]
  },
  {
   "cell_type": "code",
   "execution_count": 27,
   "id": "068e9f86",
   "metadata": {},
   "outputs": [
    {
     "data": {
      "text/plain": [
       "<matplotlib.legend.Legend at 0x214e09cf6a0>"
      ]
     },
     "execution_count": 27,
     "metadata": {},
     "output_type": "execute_result"
    },
    {
     "data": {
      "image/png": "[encoded data removed]",
      "text/plain": [
       "<Figure size 432x288 with 1 Axes>"
      ]
     },
     "metadata": {
      "needs_background": "light"
     },
     "output_type": "display_data"
    }
   ],
   "source": [
    "colour = ['b','g','r','m']\n",
    "for i in range(len(colour)):\n",
    "    plt.plot(iterations_history,cost_reg_history[i], color=colour[i], label='alpha = {}'.format(alpha_lst[i]))\n",
    "plt.ylabel(\"Cost_reg\"), plt.xlabel(\"Iter\")\n",
    "plt.axis([0, 300, 0.2, 2])\n",
    "plt.legend()"
   ]
  },
  {
   "cell_type": "markdown",
   "id": "ef77e9ab",
   "metadata": {},
   "source": [
    "A good choice seems to be alpha = 0.3 with max_iter just over 300, so maybe 500."
   ]
  },
  {
   "cell_type": "code",
   "execution_count": 28,
   "id": "71d44702",
   "metadata": {},
   "outputs": [
    {
     "name": "stdout",
     "output_type": "stream",
     "text": [
      "The train cost is 0.16320193413223313 and the test cost is 0.17870480433504354\n"
     ]
    }
   ],
   "source": [
    "X_train, X_test, y_train, y_test = train_test_split(X, y, test_size=0.30)\n",
    "y_hat, W_model, b_model, train_cost, test_cost = logistic_regression(X_train, X_test, y_train, y_test, lambda_=0., alpha=.3, max_iter=500, print_step=False)\n",
    "print(\"The train cost is {} and the test cost is {}\".format(train_cost, test_cost))"
   ]
  },
  {
   "cell_type": "code",
   "execution_count": 29,
   "id": "c691570c",
   "metadata": {},
   "outputs": [
    {
     "data": {
      "text/plain": [
       "0.9333333333333333"
      ]
     },
     "execution_count": 29,
     "metadata": {},
     "output_type": "execute_result"
    }
   ],
   "source": [
    "sum(y_hat == y_test)/len(y_test)"
   ]
  },
  {
   "cell_type": "code",
   "execution_count": 30,
   "id": "0233180c",
   "metadata": {},
   "outputs": [],
   "source": [
    "logmodel = LogisticRegression()\n",
    "logmodel.fit(X_train,y_train)\n",
    "y_hat_sklearn = logmodel.predict(X_test)"
   ]
  },
  {
   "cell_type": "code",
   "execution_count": 31,
   "id": "c1dcc59c",
   "metadata": {},
   "outputs": [
    {
     "data": {
      "text/plain": [
       "0.9433333333333334"
      ]
     },
     "execution_count": 31,
     "metadata": {},
     "output_type": "execute_result"
    }
   ],
   "source": [
    "sum(y_hat_sklearn == y_test)/len(y_test)"
   ]
  },
  {
   "cell_type": "markdown",
   "id": "d2d78190",
   "metadata": {},
   "source": [
    "We got even better with more data, implying our logistic regression model works well for larger dataset with more than two features!"
   ]
  },
  {
   "cell_type": "markdown",
   "id": "ddf2a276",
   "metadata": {},
   "source": [
    "# Polynomial features\n",
    "To test polynomial features we will import a new dataset and focus on two of the features."
   ]
  },
  {
   "cell_type": "code",
   "execution_count": 32,
   "id": "0299ebea",
   "metadata": {},
   "outputs": [],
   "source": [
    "from sklearn.datasets import load_wine\n",
    "wine = load_wine()"
   ]
  },
  {
   "cell_type": "code",
   "execution_count": 33,
   "id": "42aeb3a2",
   "metadata": {},
   "outputs": [],
   "source": [
    "df_wine = pd.DataFrame(data=np.c_[wine[\"data\"], wine[\"target\"]],columns=wine[\"feature_names\"]+[\"target\"])\n",
    "#The wine dataset actually has three values for its target class - \n",
    "#we only want two for logistic regression\n",
    "df_wine = df_wine[df_wine[\"target\"]!=2]"
   ]
  },
  {
   "cell_type": "code",
   "execution_count": 34,
   "id": "90b1d0d4",
   "metadata": {},
   "outputs": [],
   "source": [
    "df_wine_reduced = df_wine[[\"hue\",\"ash\",\"target\"]]"
   ]
  },
  {
   "cell_type": "markdown",
   "id": "2d78a8a2",
   "metadata": {},
   "source": [
    "### Min-max scaling"
   ]
  },
  {
   "cell_type": "markdown",
   "id": "4cecd399",
   "metadata": {},
   "source": [
    "Before we calculate polynomial features we need to scale our features."
   ]
  },
  {
   "cell_type": "code",
   "execution_count": 35,
   "id": "cc971ddd",
   "metadata": {},
   "outputs": [],
   "source": [
    "def min_max_scale(X):\n",
    "    '''\n",
    "    Applies min max scaling to input features.\n",
    "    Parameters:\n",
    "    ----------\n",
    "    Input: X - pandas.core.frame.DataFrame - features of shape (M,N) with M indices and N features\n",
    "    Output: X_minmax - pandas.core.frame.DataFrame - minmax scaled features of shape (M,N) with M indices and N features\n",
    "    '''\n",
    "    N = len(X.columns)\n",
    "    X_minmax = X.copy(deep=True)\n",
    "    for n in range(N):\n",
    "        X_minmax.iloc[:,n] =  (X.iloc[:,n] - min(X.iloc[:,n]))/(max(X.iloc[:,n]) - min(X.iloc[:,n]))\n",
    "    return X_minmax"
   ]
  },
  {
   "cell_type": "code",
   "execution_count": 36,
   "id": "6e1bd62a",
   "metadata": {},
   "outputs": [
    {
     "data": {
      "text/html": [
       "<div>\n",
       "<style scoped>\n",
       "    .dataframe tbody tr th:only-of-type {\n",
       "        vertical-align: middle;\n",
       "    }\n",
       "\n",
       "    .dataframe tbody tr th {\n",
       "        vertical-align: top;\n",
       "    }\n",
       "\n",
       "    .dataframe thead th {\n",
       "        text-align: right;\n",
       "    }\n",
       "</style>\n",
       "<table border=\"1\" class=\"dataframe\">\n",
       "  <thead>\n",
       "    <tr style=\"text-align: right;\">\n",
       "      <th></th>\n",
       "      <th>hue</th>\n",
       "      <th>ash</th>\n",
       "    </tr>\n",
       "  </thead>\n",
       "  <tbody>\n",
       "    <tr>\n",
       "      <th>0</th>\n",
       "      <td>0.343137</td>\n",
       "      <td>0.572193</td>\n",
       "    </tr>\n",
       "    <tr>\n",
       "      <th>1</th>\n",
       "      <td>0.352941</td>\n",
       "      <td>0.417112</td>\n",
       "    </tr>\n",
       "    <tr>\n",
       "      <th>2</th>\n",
       "      <td>0.333333</td>\n",
       "      <td>0.700535</td>\n",
       "    </tr>\n",
       "  </tbody>\n",
       "</table>\n",
       "</div>"
      ],
      "text/plain": [
       "        hue       ash\n",
       "0  0.343137  0.572193\n",
       "1  0.352941  0.417112\n",
       "2  0.333333  0.700535"
      ]
     },
     "execution_count": 36,
     "metadata": {},
     "output_type": "execute_result"
    }
   ],
   "source": [
    "X = df_wine_reduced[[\"hue\",\"ash\"]]\n",
    "y = df_wine_reduced[\"target\"]\n",
    "X_minmax = min_max_scale(X)\n",
    "X_minmax.head(3)"
   ]
  },
  {
   "cell_type": "markdown",
   "id": "5dcf473d",
   "metadata": {},
   "source": [
    "### Visualising polynomial decision boundaries"
   ]
  },
  {
   "cell_type": "markdown",
   "id": "a095a2e4",
   "metadata": {},
   "source": [
    "We seet that this data lends itself to a non-linear decision boundary (see my attempt at a fit with the green dashed line). Lets extend our algorithm to include polynomial features and see if we can improve our model."
   ]
  },
  {
   "cell_type": "code",
   "execution_count": 37,
   "id": "8fb0620b",
   "metadata": {},
   "outputs": [
    {
     "data": {
      "text/plain": [
       "[<matplotlib.lines.Line2D at 0x214e0c473d0>]"
      ]
     },
     "execution_count": 37,
     "metadata": {},
     "output_type": "execute_result"
    },
    {
     "data": {
      "image/png": "[encoded data removed]",
      "text/plain": [
       "<Figure size 432x288 with 1 Axes>"
      ]
     },
     "metadata": {
      "needs_background": "light"
     },
     "output_type": "display_data"
    }
   ],
   "source": [
    "sns.scatterplot(x=X_minmax[\"ash\"],y=X_minmax[\"hue\"],hue=df_wine_reduced[\"target\"])\n",
    "hue_vec = np.linspace(0.3,0.9,100)\n",
    "alcalinity_vec = -5*(hue_vec-0.6)**2+0.55\n",
    "plt.plot(hue_vec,alcalinity_vec,'g--')"
   ]
  },
  {
   "cell_type": "markdown",
   "id": "fda5df1e",
   "metadata": {},
   "source": [
    "I suspect this dataset could benefit from a higher order polynomial decision boundary such as the quadratic one sketched. We can generate these features with the below function. "
   ]
  },
  {
   "cell_type": "code",
   "execution_count": 38,
   "id": "5cf1c27f",
   "metadata": {},
   "outputs": [],
   "source": [
    "def encode_polynomial(X, degree=1):\n",
    "    '''\n",
    "    Calculate polynomial features from input features.\n",
    "    Parameters:\n",
    "    ----------\n",
    "    Input: X - pandas.core.frame.DataFrame - features of shape (M,N) with M indices and N features\n",
    "           degree - float - maximum exponent applied to each feature\n",
    "    Output: X_poly - pandas.core.frame.DataFrame - polynomial features of shape (M,N*degree) with M indices and N*degree features\n",
    "    '''\n",
    "    N = len(X.columns)\n",
    "    N_poly = N*degree\n",
    "    \n",
    "    X_poly = X.copy(deep=True)\n",
    "\n",
    "    for n in range(0,N):\n",
    "        for d in range(1,degree+1):\n",
    "            feat_label = \"{}^{},\".format(X.columns[n],d)\n",
    "            \n",
    "            new_feat = X.iloc[:,n].copy(deep=True)\n",
    "            new_feat = new_feat**d\n",
    "            new_feat.rename(index=feat_label, inplace=True)\n",
    "            X_poly = pd.concat([X_poly, new_feat], axis=1)\n",
    "    X_poly.drop(labels=X.columns,axis=1,inplace=True)    \n",
    "    \n",
    "    return X_poly"
   ]
  },
  {
   "cell_type": "markdown",
   "id": "8ea56338",
   "metadata": {},
   "source": [
    "For example:"
   ]
  },
  {
   "cell_type": "code",
   "execution_count": 39,
   "id": "c12e844f",
   "metadata": {},
   "outputs": [
    {
     "data": {
      "text/html": [
       "<div>\n",
       "<style scoped>\n",
       "    .dataframe tbody tr th:only-of-type {\n",
       "        vertical-align: middle;\n",
       "    }\n",
       "\n",
       "    .dataframe tbody tr th {\n",
       "        vertical-align: top;\n",
       "    }\n",
       "\n",
       "    .dataframe thead th {\n",
       "        text-align: right;\n",
       "    }\n",
       "</style>\n",
       "<table border=\"1\" class=\"dataframe\">\n",
       "  <thead>\n",
       "    <tr style=\"text-align: right;\">\n",
       "      <th></th>\n",
       "      <th>hue^1,</th>\n",
       "      <th>hue^2,</th>\n",
       "      <th>hue^3,</th>\n",
       "      <th>ash^1,</th>\n",
       "      <th>ash^2,</th>\n",
       "      <th>ash^3,</th>\n",
       "    </tr>\n",
       "  </thead>\n",
       "  <tbody>\n",
       "    <tr>\n",
       "      <th>0</th>\n",
       "      <td>0.343137</td>\n",
       "      <td>0.117743</td>\n",
       "      <td>0.040402</td>\n",
       "      <td>0.572193</td>\n",
       "      <td>0.327404</td>\n",
       "      <td>0.187338</td>\n",
       "    </tr>\n",
       "    <tr>\n",
       "      <th>1</th>\n",
       "      <td>0.352941</td>\n",
       "      <td>0.124567</td>\n",
       "      <td>0.043965</td>\n",
       "      <td>0.417112</td>\n",
       "      <td>0.173983</td>\n",
       "      <td>0.072570</td>\n",
       "    </tr>\n",
       "    <tr>\n",
       "      <th>2</th>\n",
       "      <td>0.333333</td>\n",
       "      <td>0.111111</td>\n",
       "      <td>0.037037</td>\n",
       "      <td>0.700535</td>\n",
       "      <td>0.490749</td>\n",
       "      <td>0.343787</td>\n",
       "    </tr>\n",
       "  </tbody>\n",
       "</table>\n",
       "</div>"
      ],
      "text/plain": [
       "     hue^1,    hue^2,    hue^3,    ash^1,    ash^2,    ash^3,\n",
       "0  0.343137  0.117743  0.040402  0.572193  0.327404  0.187338\n",
       "1  0.352941  0.124567  0.043965  0.417112  0.173983  0.072570\n",
       "2  0.333333  0.111111  0.037037  0.700535  0.490749  0.343787"
      ]
     },
     "execution_count": 39,
     "metadata": {},
     "output_type": "execute_result"
    }
   ],
   "source": [
    "X_poly = encode_polynomial(X_minmax,degree=3)\n",
    "X_poly.head(3)"
   ]
  },
  {
   "cell_type": "markdown",
   "id": "adc7c341",
   "metadata": {},
   "source": [
    "We see that alpha = 0.3 is a good value and that 100 iterations is enough for convergence."
   ]
  },
  {
   "cell_type": "markdown",
   "id": "aa6acd5d",
   "metadata": {},
   "source": [
    "We are now going to implement polynomial features in to the logistic regression function."
   ]
  },
  {
   "cell_type": "code",
   "execution_count": 40,
   "id": "4fb26fed",
   "metadata": {},
   "outputs": [],
   "source": [
    "def logistic_regression(X_train, X_test, y_train, y_test, lambda_, alpha=1, f_cutoff=0.5, degree=1, max_iter=100, print_step=20):\n",
    "    '''\n",
    "    Takes in input training data, uses gradient descent to find an optimal model, applies model to test features.\n",
    "    After applying model to test features, estimated target class data is obtained which is compared to test target class data.\n",
    "    Parameters:\n",
    "    ----------\n",
    "    Input: X_train - pandas.core.frame.DataFrame - training set features of shape (M_train,N) with M_train indices and N features\n",
    "           y_train - pandas.core.frame.DataFrame - training set of shape (M_train,1) with target feature for each index\n",
    "           X_test - pandas.core.frame.DataFrame - training set features of shape (M_test,N) with M_test indices and N features\n",
    "           y_test - pandas.core.frame.DataFrame - training set of shape (M_test,1) with target feature for each index\n",
    "           lambda_ - float - regularisation parameter\n",
    "           alpha - float - learning rate of gradient descent\n",
    "           f_cutoff - float - cutoff for sigmoid function to determine if y_hat is equal to 0 or 1.\n",
    "           degree - int - powers of input features\n",
    "           max_iter - int - maximum number of iterations for gradient descent\n",
    "           print_step - int - on iterations that are a multiple of print_step, print percentage of completion. If False do not print progress\n",
    "    Output:y_hat - numpy.array - predicted target features of shape (M_train,1) \n",
    "           cost_reg_history - numpy.ndarray - cost function at saved iterations\n",
    "           W_model - numpy.ndarray shape (N,1) - final model parameters\n",
    "           b_history - float - final offset model parameter\n",
    "           final_cost - float - final cost function of dataset (true cost does not use regularisation term) \n",
    "    '''\n",
    "    X_train = encode_polynomial(X_train,degree)\n",
    "    X_train = min_max_scale(X_train)\n",
    "    \n",
    "    X_test = encode_polynomial(X_test,degree)\n",
    "    X_test = min_max_scale(X_test)\n",
    "    \n",
    "    N_train = len(X_train.columns)\n",
    "    W = np.ones(N_train).reshape(N_train,1)\n",
    "    b = 0.\n",
    "    cost_reg_history, W_model, b_model, print_steps, train_cost = gradient_descent(X_train, y_train, W, b, lambda_, alpha, max_iter, print_step, save_step=0)\n",
    "\n",
    "    M_test = len(X_test.index)\n",
    "    \n",
    "    f_wb_vec = sigmoid(np.matmul(X_test.to_numpy(),W_model) + b_model)\n",
    "    f_wb_vec[f_wb_vec >= f_cutoff] = 1\n",
    "    f_wb_vec[f_wb_vec < f_cutoff] = 0\n",
    "    \n",
    "    y_hat = y_test.copy(deep=True)\n",
    "    y_hat.iloc[:] = np.squeeze(f_wb_vec.reshape(1,M_test))\n",
    "    \n",
    "    test_cost = calc_cost(X_test, y_test, W_model, b_model, lambda_=0.)\n",
    "                       \n",
    "    return y_hat, W_model, b_model, train_cost, test_cost"
   ]
  },
  {
   "cell_type": "markdown",
   "id": "d2439c45",
   "metadata": {},
   "source": [
    "### Convergence of higher polynomial features"
   ]
  },
  {
   "cell_type": "markdown",
   "id": "d282ab32",
   "metadata": {},
   "source": [
    "Lets see how different degrees of polynomial features converge."
   ]
  },
  {
   "cell_type": "code",
   "execution_count": 41,
   "id": "f301dcb8",
   "metadata": {},
   "outputs": [],
   "source": [
    "X_train, X_test, y_train, y_test = train_test_split(X_minmax, y, test_size=0.3)"
   ]
  },
  {
   "cell_type": "code",
   "execution_count": 42,
   "id": "1be77c57",
   "metadata": {},
   "outputs": [
    {
     "name": "stdout",
     "output_type": "stream",
     "text": [
      "For degree=1\n",
      "For degree=2\n",
      "For degree=3\n",
      "For degree=4\n",
      "For degree=5\n",
      "For degree=10\n"
     ]
    }
   ],
   "source": [
    "degree_lst = [1,2,3,4,5,10]\n",
    "iterations_history, cost_reg_history = [], []\n",
    "b_init = 0.\n",
    "lambda_ = 0.\n",
    "max_iter_val = 15000\n",
    "for degree_val in degree_lst:\n",
    "    print(\"For degree={}\".format(degree_val))\n",
    "    X_train_poly = encode_polynomial(X_train, degree=degree_val)\n",
    "    N_train = len(X_train_poly.columns)\n",
    "    W_init = np.ones(N_train).reshape(N_train,1)\n",
    "    if(degree_val==1):alpha_val = 0.7\n",
    "    else:alpha_val = 3\n",
    "    cost_reg, dummy_W, dummy_b, iterations, final_cost = gradient_descent(X_train_poly, y_train, W_init, b_init, lambda_, alpha=alpha_val, max_iter=max_iter_val, print_step=False, save_step=10)\n",
    "    cost_reg_history.append(cost_reg)\n",
    "    iterations_history = iterations"
   ]
  },
  {
   "cell_type": "code",
   "execution_count": 43,
   "id": "d090bd44",
   "metadata": {},
   "outputs": [
    {
     "data": {
      "text/plain": [
       "<matplotlib.legend.Legend at 0x214e100ac70>"
      ]
     },
     "execution_count": 43,
     "metadata": {},
     "output_type": "execute_result"
    },
    {
     "data": {
      "image/png": "[encoded data removed]",
      "text/plain": [
       "<Figure size 432x288 with 1 Axes>"
      ]
     },
     "metadata": {
      "needs_background": "light"
     },
     "output_type": "display_data"
    }
   ],
   "source": [
    "colour = ['b','g','c','r','k','m']\n",
    "for i in range(len(colour)):\n",
    "    plt.plot(iterations_history,cost_reg_history[i], color=colour[i], label='degree = {}'.format(degree_lst[i]))\n",
    "plt.ylabel(\"Cost_reg\"), plt.xlabel(\"Iter\")\n",
    "plt.legend()"
   ]
  },
  {
   "cell_type": "markdown",
   "id": "61dd7014",
   "metadata": {},
   "source": [
    "Curiously, degree = 2 struggled to converge, however, as the code is vectorised we can do 15000 iterations quite quickly."
   ]
  },
  {
   "cell_type": "markdown",
   "id": "220b79f1",
   "metadata": {},
   "source": [
    "### Reducing cost with higher order features"
   ]
  },
  {
   "cell_type": "markdown",
   "id": "772281a1",
   "metadata": {},
   "source": [
    "Lets see if we can get a better model for our data by using higher degree features."
   ]
  },
  {
   "cell_type": "code",
   "execution_count": 44,
   "id": "58ba48bb",
   "metadata": {},
   "outputs": [
    {
     "name": "stdout",
     "output_type": "stream",
     "text": [
      "Degree: 1 complete\n",
      "Degree: 2 complete\n",
      "Degree: 3 complete\n",
      "Degree: 4 complete\n",
      "Degree: 5 complete\n",
      "Degree: 6 complete\n",
      "Degree: 7 complete\n",
      "Degree: 8 complete\n",
      "Degree: 9 complete\n",
      "Degree: 10 complete\n"
     ]
    }
   ],
   "source": [
    "degree_vec = [1,2,3,4,5,6,7,8,9,10]\n",
    "train_cost_vec, test_cost_vec = [], []\n",
    "for degree_val in degree_vec:\n",
    "    if degree_val==1:alpha_val = 0.3\n",
    "    else:alpha_val = 3\n",
    "    dummy_y_hat, dummy_W, dummy_b, train_cost, test_cost = logistic_regression(X_train, X_test, y_train, y_test, lambda_=0., alpha=alpha_val, degree = degree_val, max_iter=15000, print_step=False)\n",
    "    train_cost_vec.append(train_cost)\n",
    "    test_cost_vec.append(test_cost)\n",
    "    print(\"Degree: {} complete\".format(degree_val))"
   ]
  },
  {
   "cell_type": "markdown",
   "id": "3331d777",
   "metadata": {},
   "source": [
    "Note that we get calculation problems for degree>4. This is because the inputs to our leg functions get too close to zero."
   ]
  },
  {
   "cell_type": "code",
   "execution_count": 45,
   "id": "22b6d92f",
   "metadata": {},
   "outputs": [
    {
     "data": {
      "text/plain": [
       "<matplotlib.legend.Legend at 0x214dfab9160>"
      ]
     },
     "execution_count": 45,
     "metadata": {},
     "output_type": "execute_result"
    },
    {
     "data": {
      "image/png": "[encoded data removed]",
      "text/plain": [
       "<Figure size 432x288 with 1 Axes>"
      ]
     },
     "metadata": {
      "needs_background": "light"
     },
     "output_type": "display_data"
    }
   ],
   "source": [
    "plt.plot(degree_vec,train_cost_vec, 'ks', label='train_cost')\n",
    "plt.plot(degree_vec,test_cost_vec, 'gx', label='test_cost')\n",
    "plt.ylabel(\"Cost\"), plt.xlabel(\"Degree\")\n",
    "plt.legend()"
   ]
  },
  {
   "cell_type": "markdown",
   "id": "fb30b4a2",
   "metadata": {},
   "source": [
    "We see that in this case polynomial features can significantly improve cost of the training set. However, they overfit the data meaning they reduce the test cost."
   ]
  },
  {
   "cell_type": "markdown",
   "id": "1ffbcdfd",
   "metadata": {},
   "source": [
    "# Overfitting and regularisation"
   ]
  },
  {
   "cell_type": "markdown",
   "id": "e1eee71f",
   "metadata": {},
   "source": [
    "Lets consider the case of degree = 3, clearly the model has overfit to the test dataset. To counter this we can use regularisation to punish the model for picking parge coefficients for our model. Lets see if we can improve the test cost for degree = 5 by reducing overfitting. "
   ]
  },
  {
   "cell_type": "code",
   "execution_count": 50,
   "id": "1e74ac8d",
   "metadata": {},
   "outputs": [
    {
     "name": "stdout",
     "output_type": "stream",
     "text": [
      "lambda: 0.01 complete\n",
      "lambda: 0.1 complete\n",
      "lambda: 0.17 complete\n",
      "lambda: 0.3 complete\n",
      "lambda: 0.67 complete\n",
      "lambda: 1 complete\n",
      "lambda: 3 complete\n",
      "lambda: 10 complete\n",
      "lambda: 30 complete\n"
     ]
    }
   ],
   "source": [
    "lambda_vec = [0.01,0.1,0.17,0.3,0.67,1, 3, 10, 30]\n",
    "#degree_vec = np.arange(20,23)\n",
    "train_cost_vec, test_cost_vec = [], []\n",
    "for lambda_val in lambda_vec:\n",
    "    dummy_y_hat, dummy_W, dummy_b, train_cost, test_cost = logistic_regression(X_train, X_test, y_train, y_test, lambda_=lambda_val, alpha=3, degree = degree_val, max_iter=15000, print_step=False)\n",
    "    train_cost_vec.append(train_cost)\n",
    "    test_cost_vec.append(test_cost)\n",
    "    print(\"lambda: {} complete\".format(lambda_val))"
   ]
  },
  {
   "cell_type": "code",
   "execution_count": 51,
   "id": "0af054a4",
   "metadata": {},
   "outputs": [
    {
     "data": {
      "text/plain": [
       "<matplotlib.legend.Legend at 0x214e20d8e80>"
      ]
     },
     "execution_count": 51,
     "metadata": {},
     "output_type": "execute_result"
    },
    {
     "data": {
      "image/png": "[encoded data removed]",
      "text/plain": [
       "<Figure size 432x288 with 1 Axes>"
      ]
     },
     "metadata": {
      "needs_background": "light"
     },
     "output_type": "display_data"
    }
   ],
   "source": [
    "plt.plot(np.log10(lambda_vec),train_cost_vec, 'ks', label='train_cost')\n",
    "plt.plot(np.log10(lambda_vec),test_cost_vec, 'gx', label='test_cost')\n",
    "plt.ylabel(\"Cost\"), plt.xlabel(\"log(lambda)\")\n",
    "plt.legend()"
   ]
  },
  {
   "cell_type": "markdown",
   "id": "abb7666f",
   "metadata": {},
   "source": [
    "We can see that we can decrease the validation cost by setting lambda_ = 1. Here we used regularisation to prevent overfitting the training data, whilst still improving the fit with higher powers of features."
   ]
  },
  {
   "cell_type": "markdown",
   "id": "eef64816",
   "metadata": {},
   "source": [
    "# Conclusion"
   ]
  },
  {
   "cell_type": "markdown",
   "id": "753b1eab",
   "metadata": {},
   "source": [
    "Here we have written a python module using NumPy and Pandas that can carry out the logistic regression machine learning algorithm. We have included additional features such as optionally increasing the power of features and regularisation to prevent overfitting. All of these features was tested on an artificial dataset.\n",
    "\n",
    "To improve the module further the polynomial features option could be generalised to mix features, e.g., $X_0^{d_0} X_1^{d_1} ... X_N^{d_N}$.\n"
   ]
  }
 ],
 "metadata": {
  "kernelspec": {
   "display_name": "Python 3 (ipykernel)",
   "language": "python",
   "name": "python3"
  },
  "language_info": {
   "codemirror_mode": {
    "name": "ipython",
    "version": 3
   },
   "file_extension": ".py",
   "mimetype": "text/x-python",
   "name": "python",
   "nbconvert_exporter": "python",
   "pygments_lexer": "ipython3",
   "version": "3.9.12"
  }
 },
 "nbformat": 4,
 "nbformat_minor": 5
}
